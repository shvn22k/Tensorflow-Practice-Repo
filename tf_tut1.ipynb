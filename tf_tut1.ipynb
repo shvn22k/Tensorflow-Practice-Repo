{
 "cells": [
  {
   "cell_type": "markdown",
   "id": "c384ccde-62e4-4fb2-bcc1-e7a3ea2fc4c5",
   "metadata": {},
   "source": [
    "### Introduction to tensors"
   ]
  },
  {
   "cell_type": "code",
   "execution_count": 10,
   "id": "c3d3f389-5b76-4463-98ea-a65af7775fd2",
   "metadata": {},
   "outputs": [],
   "source": [
    "import tensorflow as tf"
   ]
  },
  {
   "cell_type": "code",
   "execution_count": 13,
   "id": "4b16b9a8-730d-4996-94d9-6248df687f48",
   "metadata": {},
   "outputs": [
    {
     "name": "stdout",
     "output_type": "stream",
     "text": [
      "<tf.Variable 'Variable:0' shape=(2, 2) dtype=string, numpy=\n",
      "array([[b'ok', b'hi'],\n",
      "       [b'hehe', b'haha']], dtype=object)>\n"
     ]
    }
   ],
   "source": [
    "t1 = tf.Variable([[\"ok\",\"hi\"],[\"hehe\",\"haha\"]], tf.string)\n",
    "print(t1)"
   ]
  },
  {
   "cell_type": "code",
   "execution_count": 8,
   "id": "f268aa5b-4574-4907-a1fd-ee73bcb72042",
   "metadata": {},
   "outputs": [
    {
     "data": {
      "text/plain": [
       "<tf.Tensor: shape=(), dtype=int32, numpy=2>"
      ]
     },
     "execution_count": 8,
     "metadata": {},
     "output_type": "execute_result"
    }
   ],
   "source": [
    "tf.rank(t1)"
   ]
  },
  {
   "cell_type": "code",
   "execution_count": 9,
   "id": "2e75f8a3-76e3-4e7c-9063-44e78c1cabf8",
   "metadata": {},
   "outputs": [
    {
     "data": {
      "text/plain": [
       "TensorShape([2, 2])"
      ]
     },
     "execution_count": 9,
     "metadata": {},
     "output_type": "execute_result"
    }
   ],
   "source": [
    "t1.shape"
   ]
  },
  {
   "cell_type": "code",
   "execution_count": 17,
   "id": "8567986a-7759-4aaa-8404-6626c1a5b49a",
   "metadata": {},
   "outputs": [
    {
     "name": "stdout",
     "output_type": "stream",
     "text": [
      "tf.Tensor([[b'ok' b'hi' b'hehe' b'haha']], shape=(1, 4), dtype=string)\n"
     ]
    }
   ],
   "source": [
    "t2 = tf.reshape(t1, [1,-1])\n",
    "print(t2)"
   ]
  },
  {
   "cell_type": "code",
   "execution_count": null,
   "id": "d556e3da-f249-408a-8cc5-704333a2a9f3",
   "metadata": {},
   "outputs": [],
   "source": []
  }
 ],
 "metadata": {
  "kernelspec": {
   "display_name": "Python 3 (ipykernel)",
   "language": "python",
   "name": "python3"
  },
  "language_info": {
   "codemirror_mode": {
    "name": "ipython",
    "version": 3
   },
   "file_extension": ".py",
   "mimetype": "text/x-python",
   "name": "python",
   "nbconvert_exporter": "python",
   "pygments_lexer": "ipython3",
   "version": "3.8.2"
  }
 },
 "nbformat": 4,
 "nbformat_minor": 5
}
